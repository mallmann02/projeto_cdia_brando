{
 "cells": [
  {
   "cell_type": "code",
   "execution_count": null,
   "metadata": {},
   "outputs": [],
   "source": [
    "import os\n",
    "\n",
    "from dotenv import load_dotenv, find_dotenv\n",
    "_ = load_dotenv(find_dotenv()) # read local .env file"
   ]
  },
  {
   "cell_type": "code",
   "execution_count": null,
   "metadata": {},
   "outputs": [],
   "source": [
    "from langchain_community.llms import HuggingFaceHub\n",
    "from langchain_community.chat_models.huggingface import ChatHuggingFace\n",
    "\n",
    "\n",
    "phi3_endpoint = HuggingFaceHub(\n",
    "    repo_id=\"microsoft/Phi-3-medium-128k-instruct\",\n",
    "    task=\"text-generation\",\n",
    "    model_kwargs={\n",
    "        \"max_new_tokens\": 512,\n",
    "        \"top_k\": 30,\n",
    "        \"temperature\": 0.0001,\n",
    "        \"repetition_penalty\": 1.03,\n",
    "    },\n",
    ")\n",
    "\n",
    "gemma2_endpoint = HuggingFaceHub(\n",
    "    repo_id=\"google/gemma-2-9b-it\",\n",
    "    task=\"text-generation\",\n",
    "    model_kwargs={\n",
    "        \"max_new_tokens\": 512,\n",
    "        \"top_k\": 30,\n",
    "        \"temperature\": 0.0001,\n",
    "        \"repetition_penalty\": 1.03,\n",
    "    },\n",
    ")\n",
    "\n",
    "zephyr_endpoint = HuggingFaceHub(\n",
    "    repo_id=\"HuggingFaceH4/zephyr-7b-beta\",\n",
    "    task=\"text-generation\",\n",
    "    model_kwargs={\n",
    "        \"max_new_tokens\": 512,\n",
    "        \"top_k\": 30,\n",
    "        \"temperature\": 0.0001,\n",
    "        \"repetition_penalty\": 1.03,\n",
    "    },\n",
    ")\n",
    "\n",
    "phi3_chat = ChatHuggingFace(llm=phi3_endpoint)\n",
    "gemma2_chat = ChatHuggingFace(llm=gemma2_endpoint)\n",
    "zephyr_chat = ChatHuggingFace(llm=zephyr_endpoint)"
   ]
  },
  {
   "cell_type": "code",
   "execution_count": null,
   "metadata": {},
   "outputs": [],
   "source": [
    "zephyr_chat.invoke(\"Can you tell me a joke?\", temperature=0.01)"
   ]
  },
  {
   "cell_type": "markdown",
   "metadata": {},
   "source": [
    "### Running tests for Database samples"
   ]
  },
  {
   "cell_type": "code",
   "execution_count": null,
   "metadata": {},
   "outputs": [],
   "source": [
    "from src.const.dados import DADOS_ROOT\n",
    "from src.utils.dados import Dados\n",
    "\n",
    "import src.Extractors as Extractors\n",
    "import src.TableAttributes as TableAttributes"
   ]
  },
  {
   "cell_type": "code",
   "execution_count": null,
   "metadata": {},
   "outputs": [],
   "source": [
    "dados_amostra_01 = Dados('amostra-cons_reg_banco',DADOS_ROOT+'banco.zip')\n",
    "dados_amostra_01 = list(filter(lambda x: x[0] == 't_surtos_reg', dados_amostra_01))[:3]\n",
    "\n",
    "responses = []\n",
    "for i, (tableId, comment, gt) in enumerate(dados_amostra_01):\n",
    "    surtos_reg = Extractors.SurtosRegExtractor(pacient_report_file=comment, chat_model=zephyr_chat, TableAttributes=[TableAttributes.surtos_reg_alt_vital_attributes,\n",
    "                                                                                                                    TableAttributes.surtos_reg_info_surto_attributes])\n",
    "    response = surtos_reg.extract()\n",
    "    print(response)\n",
    "    extracted_data = {}\n",
    "\n",
    "    for att in response:\n",
    "        extracted_data.update(att)\n",
    "\n",
    "    precision, recall, f1 = surtos_reg.compare(extracted_data, gt)\n",
    "    print(f\"Precision: {precision}, Recall: {recall}, F1: {f1}\")\n",
    "    print()\n",
    "\n",
    "    responses.append(response)"
   ]
  },
  {
   "cell_type": "code",
   "execution_count": null,
   "metadata": {},
   "outputs": [],
   "source": [
    "formatted_responses = []\n",
    "for response in responses:\n",
    "    single_dict = {}\n",
    "    for attributeResp in response:\n",
    "        single_dict.update(attributeResp)\n",
    "    formatted_responses.append(single_dict)\n",
    "\n",
    "del formatted_responses[0][\"visual\"]\n",
    "formatted_responses[0]"
   ]
  }
 ],
 "metadata": {
  "kernelspec": {
   "display_name": "ds",
   "language": "python",
   "name": "python3"
  },
  "language_info": {
   "codemirror_mode": {
    "name": "ipython",
    "version": 3
   },
   "file_extension": ".py",
   "mimetype": "text/x-python",
   "name": "python",
   "nbconvert_exporter": "python",
   "pygments_lexer": "ipython3",
   "version": "3.1.undefined"
  }
 },
 "nbformat": 4,
 "nbformat_minor": 2
}
