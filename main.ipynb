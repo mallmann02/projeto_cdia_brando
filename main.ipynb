{
 "cells": [
  {
   "cell_type": "code",
   "execution_count": 1,
   "metadata": {},
   "outputs": [],
   "source": [
    "import os\n",
    "\n",
    "from dotenv import load_dotenv, find_dotenv\n",
    "_ = load_dotenv(find_dotenv()) # read local .env file"
   ]
  },
  {
   "cell_type": "code",
   "execution_count": 2,
   "metadata": {},
   "outputs": [
    {
     "name": "stderr",
     "output_type": "stream",
     "text": [
      "/home/arthur/Documents/pucrs/2024/2024-1/Projeto em Ciência de Dados I/projeto_cdia_brando/.venv/lib/python3.10/site-packages/langchain_core/_api/deprecation.py:139: LangChainDeprecationWarning: The class `HuggingFaceHub` was deprecated in LangChain 0.0.21 and will be removed in 0.3.0. Use HuggingFaceEndpoint instead.\n",
      "  warn_deprecated(\n",
      "/home/arthur/Documents/pucrs/2024/2024-1/Projeto em Ciência de Dados I/projeto_cdia_brando/.venv/lib/python3.10/site-packages/tqdm/auto.py:21: TqdmWarning: IProgress not found. Please update jupyter and ipywidgets. See https://ipywidgets.readthedocs.io/en/stable/user_install.html\n",
      "  from .autonotebook import tqdm as notebook_tqdm\n",
      "/home/arthur/Documents/pucrs/2024/2024-1/Projeto em Ciência de Dados I/projeto_cdia_brando/.venv/lib/python3.10/site-packages/langchain_core/_api/deprecation.py:139: LangChainDeprecationWarning: The class `ChatHuggingFace` was deprecated in LangChain 0.0.37 and will be removed in 0.3. An updated version of the class exists in the from langchain-huggingface package and should be used instead. To use it run `pip install -U from langchain-huggingface` and import as `from from langchain_huggingface.chat_models import huggingface import ChatHuggingFace`.\n",
      "  warn_deprecated(\n"
     ]
    }
   ],
   "source": [
    "from langchain_community.llms import HuggingFaceHub\n",
    "from langchain_community.chat_models.huggingface import ChatHuggingFace\n",
    "\n",
    "\n",
    "llm = HuggingFaceHub(\n",
    "    repo_id=\"HuggingFaceH4/zephyr-7b-beta\",\n",
    "    task=\"text-generation\",\n",
    "    model_kwargs={\n",
    "        \"max_new_tokens\": 512,\n",
    "        \"top_k\": 30,\n",
    "        \"temperature\": 0.0001,\n",
    "        \"repetition_penalty\": 1.03,\n",
    "    },\n",
    ")\n",
    "\n",
    "chat_model = ChatHuggingFace(llm=llm)"
   ]
  },
  {
   "cell_type": "code",
   "execution_count": null,
   "metadata": {},
   "outputs": [],
   "source": [
    "chat_model.invoke(\"Can you tell me a joke?\", temperature=0.01)"
   ]
  },
  {
   "cell_type": "code",
   "execution_count": null,
   "metadata": {},
   "outputs": [],
   "source": [
    "file_names = [\n",
    "    \"./pac_data/person_test_1.txt\",\n",
    "    \"./pac_data/person_test_2.txt\",\n",
    "    \"./pac_data/person_test_3.txt\",\n",
    "]\n",
    "\n",
    "pac_relatories = []\n",
    "\n",
    "for file_name in file_names:\n",
    "    with open(file_name, \"r\") as f:\n",
    "        raw_text = f.read()\n",
    "        pac_relatories.append(raw_text)"
   ]
  },
  {
   "cell_type": "code",
   "execution_count": 3,
   "metadata": {},
   "outputs": [],
   "source": [
    "import src.Extractors as Extractors\n",
    "import src.TableAttributes as TableAttributes"
   ]
  },
  {
   "cell_type": "code",
   "execution_count": 7,
   "metadata": {},
   "outputs": [],
   "source": [
    "drug_extractor = Extractors.LabChemicalExtractor(pacient_report_file=\"./pac_data/tratados-amostra-001/tratados/t_lab_quimica.csv\", chat_model=chat_model, TableAttributes=[TableAttributes.lab_hemat_attributes])\n",
    "\n",
    "response = drug_extractor.extract()"
   ]
  },
  {
   "cell_type": "code",
   "execution_count": 8,
   "metadata": {},
   "outputs": [
    {
     "data": {
      "text/plain": [
       "[{'lab_hemat': [{'test': 'HT', 'result': '33,2'},\n",
       "   {'test': 'TGP', 'result': '108'},\n",
       "   {'test': 'LDL', 'result': '232'},\n",
       "   {'test': 'HDL', 'result': '97'},\n",
       "   {'test': 'GAMA-GT', 'result': '235'},\n",
       "   {'test': 'FA', 'result': '74'},\n",
       "   {'test': 'TGO', 'result': '17'},\n",
       "   {'test': 'BIL.', 'result': '0,31 (0,11/0,20)'},\n",
       "   {'test': 'LDL', 'result': '207'},\n",
       "   {'test': 'HDL', 'result': '35'},\n",
       "   {'test': 'LDL', 'result': '204'},\n",
       "   {'test': 'LDL', 'result': '142,56'},\n",
       "   {'test': 'LDL', 'result': '133'},\n",
       "   {'test': 'LDL', 'result': '128'},\n",
       "   {'test': 'LDL', 'result': '127'},\n",
       "   {'test': 'LDL', 'result': '126'},\n",
       "   {'test': 'LDL', 'result': '125'},\n",
       "   {'test': 'LDL', 'result': '124'},\n",
       "   {'test': 'LDL'}]}]"
      ]
     },
     "execution_count": 8,
     "metadata": {},
     "output_type": "execute_result"
    }
   ],
   "source": [
    "response"
   ]
  },
  {
   "cell_type": "code",
   "execution_count": null,
   "metadata": {},
   "outputs": [],
   "source": []
  }
 ],
 "metadata": {
  "kernelspec": {
   "display_name": "ds",
   "language": "python",
   "name": "python3"
  },
  "language_info": {
   "codemirror_mode": {
    "name": "ipython",
    "version": 3
   },
   "file_extension": ".py",
   "mimetype": "text/x-python",
   "name": "python",
   "nbconvert_exporter": "python",
   "pygments_lexer": "ipython3",
   "version": "3.10.12"
  }
 },
 "nbformat": 4,
 "nbformat_minor": 2
}
